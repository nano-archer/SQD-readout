{
 "cells": [
  {
   "cell_type": "code",
   "execution_count": null,
   "metadata": {
    "collapsed": true
   },
   "outputs": [],
   "source": [
    "import sys\n",
    "sys.path.append('C:/Users/JacobSkaarup/Dropbox/Bachelorprojekt/FolderBrowser-master')\n",
    "import numpy as np\n",
    "from scipy import constants\n",
    "from scipy import signal\n",
    "from sweep import Sweep\n",
    "import matplotlib.pyplot as plt\n",
    "import importlib.util\n",
    "\n"
   ]
  },
  {
   "cell_type": "code",
   "execution_count": null,
   "metadata": {
    "collapsed": true
   },
   "outputs": [],
   "source": [
    "'''Input'''\n",
    "data_path = 'C:/Users/JacobSkaarup/Seafile/A2S9B/data/2017-04-24#001'\n",
    "x_name = 'g11'\n",
    "y_name = 'source'\n",
    "z_name = 'root_conductance4'\n",
    "# Width =\n",
    "\n",
    "# Constants\n",
    "q_e = constants.elementary_charge\n",
    "h_p = constants.Planck\n",
    "k_B = constants.Boltzmann\n",
    "temp = 28*10^-3\n",
    "k_B_T = k_B*temp\n",
    "Con_quan = q_e**2/h_p"
   ]
  },
  {
   "cell_type": "code",
   "execution_count": null,
   "metadata": {
    "collapsed": true
   },
   "outputs": [],
   "source": [
    "'''Importing data'''\n",
    "# Importing pcols\n",
    "pcols_path = 'C:/Users/JacobSkaarup/Seafile/A2S9B/brw/pcols.py'\n",
    "spec = importlib.util.spec_from_file_location('', pcols_path)\n",
    "pcols = importlib.util.module_from_spec(spec)\n",
    "spec.loader.exec_module(pcols)\n",
    "\n",
    "# Data path\n",
    "sweep = Sweep(data_path)\n",
    "sweep.set_pdata(pcols.name_func_dict)\n",
    "\n",
    "# Raw data:\n",
    "x = sweep.get_data(x_name)\n",
    "y = sweep.get_data(y_name)\n",
    "z = sweep.get_data(z_name)\n",
    "\n",
    "# Finding peaks\n",
    "# peakind = scipy.signal.find_peaks_cwt()\n",
    "\n",
    "# Finding variables\n",
    "# Del_Vpg =\n"
   ]
  },
  {
   "cell_type": "code",
   "execution_count": null,
   "metadata": {
    "collapsed": true
   },
   "outputs": [],
   "source": [
    "''' Calculations '''\n",
    "# C_pg = abs(q_e)/Del_Vpg"
   ]
  },
  {
   "cell_type": "code",
   "execution_count": null,
   "metadata": {
    "collapsed": true
   },
   "outputs": [],
   "source": []
  },
  {
   "cell_type": "code",
   "execution_count": null,
   "metadata": {
    "collapsed": true
   },
   "outputs": [],
   "source": []
  },
  {
   "cell_type": "code",
   "execution_count": null,
   "metadata": {
    "collapsed": true
   },
   "outputs": [],
   "source": []
  }
 ],
 "metadata": {
  "kernelspec": {
   "display_name": "Python 3",
   "language": "python",
   "name": "python3"
  },
  "language_info": {
   "codemirror_mode": {
    "name": "ipython",
    "version": 3
   },
   "file_extension": ".py",
   "mimetype": "text/x-python",
   "name": "python",
   "nbconvert_exporter": "python",
   "pygments_lexer": "ipython3",
   "version": "3.6.0"
  }
 },
 "nbformat": 4,
 "nbformat_minor": 2
}
